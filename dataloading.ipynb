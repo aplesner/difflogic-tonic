{
 "cells": [
  {
   "cell_type": "code",
   "execution_count": 32,
   "id": "cd21091b",
   "metadata": {},
   "outputs": [],
   "source": [
    "import os\n",
    "\n",
    "import tonic\n",
    "import matplotlib.pyplot as plt\n",
    "import numpy as np\n",
    "from tqdm import tqdm"
   ]
  },
  {
   "cell_type": "code",
   "execution_count": null,
   "id": "790adce7",
   "metadata": {},
   "outputs": [],
   "source": [
    "nmnist = tonic.datasets.NMNIST(\"data/\", train=False)\n",
    "cifar10dvs = tonic.datasets.CIFAR10DVS(\"data/\")\n",
    "# asldvs = tonic.datasets.ASLDVS(\"data/\")\n",
    "dvsgesture = tonic.datasets.DVSGesture(\"data/\", train=False)\n",
    "ncaltech101 = tonic.datasets.NCALTECH101(\"data/\")\n",
    "# poker_dvs = tonic.datasets.POKERDVS(\"data/\", train=False)\n",
    "# # smnist = tonic.datasets.SMNIST(\"data/\", train=False)  # will not be used\n",
    "# dvslip = tonic.datasets.DVSLip(\"data/\", train=False)"
   ]
  },
  {
   "cell_type": "code",
   "execution_count": null,
   "id": "1f1bf81d",
   "metadata": {},
   "outputs": [],
   "source": []
  },
  {
   "cell_type": "code",
   "execution_count": null,
   "id": "2410ed0a",
   "metadata": {},
   "outputs": [],
   "source": [
    "import struct\n",
    "\n",
    "\n",
    "def load_aedat(filepath: str) -> dict[str, np.ndarray]:\n",
    "    \"\"\"\n",
    "    Load events from an AEDAT file (version 2).\n",
    "    \n",
    "    Args:\n",
    "        filepath: Path to the .aedat file\n",
    "        \n",
    "    Returns:\n",
    "        Dictionary containing 'x', 'y', 'timestamp', and 'polarity' arrays\n",
    "    \"\"\"\n",
    "    with open(filepath, 'rb') as f:\n",
    "        # Skip header lines starting with '#'\n",
    "        while True:\n",
    "            position = f.tell()\n",
    "            line = f.readline()\n",
    "            if not line.startswith(b'#'):\n",
    "                f.seek(position)\n",
    "                break\n",
    "        \n",
    "        # Read binary event data\n",
    "        events = []\n",
    "        while True:\n",
    "            data = f.read(8)  # Each event is 8 bytes\n",
    "            if len(data) < 8:\n",
    "                break\n",
    "            \n",
    "            # Unpack event data\n",
    "            addr, timestamp = struct.unpack('II', data)\n",
    "            \n",
    "            # Extract x, y, polarity from address\n",
    "            x = (addr >> 12) & 0x3FF\n",
    "            y = (addr >> 22) & 0x3FF\n",
    "            polarity = (addr >> 11) & 0x1\n",
    "            \n",
    "            events.append([x, y, timestamp, polarity])\n",
    "    \n",
    "    if not events:\n",
    "        return {\n",
    "            'x': np.array([]),\n",
    "            'y': np.array([]),\n",
    "            'timestamp': np.array([]),\n",
    "            'polarity': np.array([])\n",
    "        }\n",
    "    \n",
    "    events_array = np.array(events)\n",
    "    \n",
    "    return {\n",
    "        'x': events_array[:, 0].astype(np.int16),\n",
    "        'y': events_array[:, 1].astype(np.int16),\n",
    "        'timestamp': events_array[:, 2].astype(np.uint32),\n",
    "        'polarity': events_array[:, 3].astype(np.bool_)\n",
    "    }"
   ]
  },
  {
   "cell_type": "code",
   "execution_count": 37,
   "id": "df455ea3",
   "metadata": {},
   "outputs": [],
   "source": [
    "poker_dvs_path = \"data/poker_dvs\"\n",
    "\n",
    "poker_dvs_files = [f for f in os.listdir(poker_dvs_path) if f.endswith(\".aedat\")]\n",
    "\n",
    "poker_dvs_filepath = os.path.join(poker_dvs_path, poker_dvs_files[0])\n",
    "\n",
    "data = load_aedat(poker_dvs_filepath)"
   ]
  },
  {
   "cell_type": "code",
   "execution_count": 41,
   "id": "06909ee8",
   "metadata": {},
   "outputs": [
    {
     "data": {
      "text/plain": [
       "np.int64(0)"
      ]
     },
     "execution_count": 41,
     "metadata": {},
     "output_type": "execute_result"
    }
   ],
   "source": [
    "data['polarity'].sum()"
   ]
  },
  {
   "cell_type": "code",
   "execution_count": null,
   "id": "37f92703",
   "metadata": {},
   "outputs": [],
   "source": [
    "datasets = {\n",
    "    \"nmnist\": nmnist,\n",
    "    \"cifar10dvs\": cifar10dvs,\n",
    "    # \"asldvs\": asldvs,\n",
    "    \"dvsgesture\": dvsgesture,\n",
    "    \"ncaltech101\": ncaltech101,\n",
    "    # \"poker_dvs\": poker_dvs,\n",
    "    # \"dvslip\": dvslip,\n",
    "}\n",
    "\n",
    "datasets_metadata = {\n",
    "    \"nmnist\": {\n",
    "        \"denoise\": 1200,\n",
    "        \"event_count\": 1500,\n",
    "    },\n",
    "    \"cifar10dvs\": {\n",
    "        \"denoise\": 5000,\n",
    "        \"event_count\": 20000,\n",
    "    },\n",
    "    # \"asldvs\": {\n",
    "    #     \"denoise\": 8000,\n",
    "    #     \"event_count\": 30000,\n",
    "    # },\n",
    "    \"dvsgesture\": {\n",
    "        \"denoise\": 10000,\n",
    "        \"event_count\": 40000,\n",
    "    },\n",
    "    \"ncaltech101\": {\n",
    "        \"denoise\": 5000,\n",
    "        \"event_count\": 40000,\n",
    "    },\n",
    "    # \"poker_dvs\": {\n",
    "    #     \"denoise\": 1500,\n",
    "    #     \"event_count\": 8000,\n",
    "    # },\n",
    "    # \"dvslip\": {\n",
    "    #     \"denoise\": 3000,\n",
    "    #     \"event_count\": 10000,\n",
    "    # },\n",
    "}"
   ]
  },
  {
   "cell_type": "code",
   "execution_count": 22,
   "id": "0a0b6e57",
   "metadata": {},
   "outputs": [],
   "source": [
    "def plot_examples(name, dataset, metadata, num_examples=5, seed=0):\n",
    "\n",
    "    np.random.seed(seed)\n",
    "    indices = np.random.choice(len(dataset), num_examples, replace=False)\n",
    "\n",
    "    fig, axes = plt.subplots(2, num_examples, figsize=(15, 6))\n",
    "    for i, idx in enumerate(indices):\n",
    "        events, label = dataset[idx]\n",
    "\n",
    "        transform = tonic.transforms.Compose(\n",
    "            [\n",
    "                tonic.transforms.Denoise(filter_time=metadata[\"denoise\"]),\n",
    "                tonic.transforms.ToFrame(\n",
    "                    sensor_size=dataset.sensor_size,\n",
    "                    event_count=metadata[\"event_count\"],\n",
    "                    overlap=int(0.75 * metadata[\"event_count\"]),\n",
    "                ),\n",
    "            ]  # type: ignore\n",
    "        )\n",
    "\n",
    "        frames = transform(events)\n",
    "\n",
    "        # plot the first frame with positive events in blue and negative events in red\n",
    "        axes[0, i].imshow(frames[0, 0], cmap=\"Blues\") # positive events\n",
    "        axes[1, i].imshow(frames[0, 1], cmap=\"Reds\", alpha=0.5) # negative events\n",
    "        \n",
    "        if i == num_examples // 2:\n",
    "            axes[0, i].set_title(f\"{name} - Label: {label}\")\n",
    "        else:\n",
    "            axes[0, i].set_title(f\"Label: {label}\")\n",
    "        \n",
    "        axes[0, i].axis(False)\n",
    "        axes[1, i].axis(False)\n",
    "    fig.tight_layout()\n",
    "\n",
    "plt.show()"
   ]
  },
  {
   "cell_type": "code",
   "execution_count": 28,
   "id": "69396465",
   "metadata": {},
   "outputs": [
    {
     "ename": "ValueError",
     "evalue": "no field of name y",
     "output_type": "error",
     "traceback": [
      "\u001b[31m---------------------------------------------------------------------------\u001b[39m",
      "\u001b[31mValueError\u001b[39m                                Traceback (most recent call last)",
      "\u001b[36mCell\u001b[39m\u001b[36m \u001b[39m\u001b[32mIn[28]\u001b[39m\u001b[32m, line 7\u001b[39m\n\u001b[32m      1\u001b[39m \u001b[38;5;66;03m# for name, dataset, metadata in zip(\u001b[39;00m\n\u001b[32m      2\u001b[39m \u001b[38;5;66;03m#     datasets.keys(), datasets.values(), datasets_metadata.values()\u001b[39;00m\n\u001b[32m      3\u001b[39m \u001b[38;5;66;03m# ):\u001b[39;00m\n\u001b[32m      4\u001b[39m \u001b[38;5;66;03m#     plot_examples(name, dataset, metadata)\u001b[39;00m\n\u001b[32m      6\u001b[39m dataset_name = \u001b[33m\"\u001b[39m\u001b[33msmnist\u001b[39m\u001b[33m\"\u001b[39m\n\u001b[32m----> \u001b[39m\u001b[32m7\u001b[39m \u001b[43mplot_examples\u001b[49m\u001b[43m(\u001b[49m\u001b[43mdataset_name\u001b[49m\u001b[43m,\u001b[49m\u001b[43m \u001b[49m\u001b[43mdatasets\u001b[49m\u001b[43m[\u001b[49m\u001b[43mdataset_name\u001b[49m\u001b[43m]\u001b[49m\u001b[43m,\u001b[49m\u001b[43m \u001b[49m\u001b[43mdatasets_metadata\u001b[49m\u001b[43m[\u001b[49m\u001b[43mdataset_name\u001b[49m\u001b[43m]\u001b[49m\u001b[43m,\u001b[49m\u001b[43m \u001b[49m\u001b[43mnum_examples\u001b[49m\u001b[43m=\u001b[49m\u001b[32;43m5\u001b[39;49m\u001b[43m,\u001b[49m\u001b[43m \u001b[49m\u001b[43mseed\u001b[49m\u001b[43m=\u001b[49m\u001b[32;43m42\u001b[39;49m\u001b[43m)\u001b[49m\n",
      "\u001b[36mCell\u001b[39m\u001b[36m \u001b[39m\u001b[32mIn[22]\u001b[39m\u001b[32m, line 21\u001b[39m, in \u001b[36mplot_examples\u001b[39m\u001b[34m(name, dataset, metadata, num_examples, seed)\u001b[39m\n\u001b[32m      8\u001b[39m events, label = dataset[idx]\n\u001b[32m     10\u001b[39m transform = tonic.transforms.Compose(\n\u001b[32m     11\u001b[39m     [\n\u001b[32m     12\u001b[39m         tonic.transforms.Denoise(filter_time=metadata[\u001b[33m\"\u001b[39m\u001b[33mdenoise\u001b[39m\u001b[33m\"\u001b[39m]),\n\u001b[32m   (...)\u001b[39m\u001b[32m     18\u001b[39m     ]  \u001b[38;5;66;03m# type: ignore\u001b[39;00m\n\u001b[32m     19\u001b[39m )\n\u001b[32m---> \u001b[39m\u001b[32m21\u001b[39m frames = \u001b[43mtransform\u001b[49m\u001b[43m(\u001b[49m\u001b[43mevents\u001b[49m\u001b[43m)\u001b[49m\n\u001b[32m     23\u001b[39m \u001b[38;5;66;03m# plot the first frame with positive events in blue and negative events in red\u001b[39;00m\n\u001b[32m     24\u001b[39m axes[\u001b[32m0\u001b[39m, i].imshow(frames[\u001b[32m0\u001b[39m, \u001b[32m0\u001b[39m], cmap=\u001b[33m\"\u001b[39m\u001b[33mBlues\u001b[39m\u001b[33m\"\u001b[39m) \u001b[38;5;66;03m# positive events\u001b[39;00m\n",
      "\u001b[36mFile \u001b[39m\u001b[32m~/.local/lib/python3.12/site-packages/tonic/transforms.py:32\u001b[39m, in \u001b[36mCompose.__call__\u001b[39m\u001b[34m(self, events)\u001b[39m\n\u001b[32m     30\u001b[39m     \u001b[38;5;28;01mif\u001b[39;00m \u001b[38;5;28mlen\u001b[39m(events) == \u001b[32m0\u001b[39m:\n\u001b[32m     31\u001b[39m         \u001b[38;5;28;01mbreak\u001b[39;00m\n\u001b[32m---> \u001b[39m\u001b[32m32\u001b[39m     events = \u001b[43mt\u001b[49m\u001b[43m(\u001b[49m\u001b[43mevents\u001b[49m\u001b[43m)\u001b[49m\n\u001b[32m     33\u001b[39m \u001b[38;5;28;01mreturn\u001b[39;00m events\n",
      "\u001b[36mFile \u001b[39m\u001b[32m~/.local/lib/python3.12/site-packages/tonic/transforms.py:119\u001b[39m, in \u001b[36mDenoise.__call__\u001b[39m\u001b[34m(self, events)\u001b[39m\n\u001b[32m    118\u001b[39m \u001b[38;5;28;01mdef\u001b[39;00m \u001b[34m__call__\u001b[39m(\u001b[38;5;28mself\u001b[39m, events):\n\u001b[32m--> \u001b[39m\u001b[32m119\u001b[39m     \u001b[38;5;28;01mreturn\u001b[39;00m \u001b[43mfunctional\u001b[49m\u001b[43m.\u001b[49m\u001b[43mdenoise_numpy\u001b[49m\u001b[43m(\u001b[49m\u001b[43mevents\u001b[49m\u001b[43m=\u001b[49m\u001b[43mevents\u001b[49m\u001b[43m,\u001b[49m\u001b[43m \u001b[49m\u001b[43mfilter_time\u001b[49m\u001b[43m=\u001b[49m\u001b[38;5;28;43mself\u001b[39;49m\u001b[43m.\u001b[49m\u001b[43mfilter_time\u001b[49m\u001b[43m)\u001b[49m\n",
      "\u001b[36mFile \u001b[39m\u001b[32m~/.local/lib/python3.12/site-packages/tonic/functional/denoise.py:24\u001b[39m, in \u001b[36mdenoise_numpy\u001b[39m\u001b[34m(events, filter_time)\u001b[39m\n\u001b[32m     22\u001b[39m copy_index = \u001b[32m0\u001b[39m\n\u001b[32m     23\u001b[39m width = \u001b[38;5;28mint\u001b[39m(events[\u001b[33m\"\u001b[39m\u001b[33mx\u001b[39m\u001b[33m\"\u001b[39m].max()) + \u001b[32m1\u001b[39m\n\u001b[32m---> \u001b[39m\u001b[32m24\u001b[39m height = \u001b[38;5;28mint\u001b[39m(\u001b[43mevents\u001b[49m\u001b[43m[\u001b[49m\u001b[33;43m\"\u001b[39;49m\u001b[33;43my\u001b[39;49m\u001b[33;43m\"\u001b[39;49m\u001b[43m]\u001b[49m.max()) + \u001b[32m1\u001b[39m\n\u001b[32m     25\u001b[39m timestamp_memory = np.zeros((width, height)) + filter_time\n\u001b[32m     27\u001b[39m \u001b[38;5;28;01mfor\u001b[39;00m event \u001b[38;5;129;01min\u001b[39;00m events:\n",
      "\u001b[31mValueError\u001b[39m: no field of name y"
     ]
    },
    {
     "data": {
      "image/png": "[encoded data removed]",
      "text/plain": [
       "<Figure size 1500x600 with 10 Axes>"
      ]
     },
     "metadata": {},
     "output_type": "display_data"
    }
   ],
   "source": [
    "# for name, dataset, metadata in zip(\n",
    "#     datasets.keys(), datasets.values(), datasets_metadata.values()\n",
    "# ):\n",
    "#     plot_examples(name, dataset, metadata)\n",
    "\n",
    "dataset_name = \"smnist\"\n",
    "plot_examples(dataset_name, datasets[dataset_name], datasets_metadata[dataset_name], num_examples=5, seed=42)"
   ]
  }
 ],
 "metadata": {
  "kernelspec": {
   "display_name": "Python 3",
   "language": "python",
   "name": "python3"
  },
  "language_info": {
   "codemirror_mode": {
    "name": "ipython",
    "version": 3
   },
   "file_extension": ".py",
   "mimetype": "text/x-python",
   "name": "python",
   "nbconvert_exporter": "python",
   "pygments_lexer": "ipython3",
   "version": "3.12.3"
  }
 },
 "nbformat": 4,
 "nbformat_minor": 5
}
